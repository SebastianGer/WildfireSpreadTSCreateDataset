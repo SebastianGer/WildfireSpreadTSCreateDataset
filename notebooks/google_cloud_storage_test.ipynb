{
 "cells": [
  {
   "cell_type": "code",
   "execution_count": 18,
   "metadata": {
    "collapsed": true,
    "pycharm": {
     "is_executing": false
    }
   },
   "outputs": [],
   "source": [
    "import folium as folium\n",
    "from google.cloud import storage\n",
    "from google.cloud.exceptions import NotFound\n",
    "\n"
   ]
  },
  {
   "cell_type": "code",
   "execution_count": 19,
   "outputs": [],
   "source": [
    "import os\n",
    "os.environ[\"GOOGLE_APPLICATION_CREDENTIALS\"]=\"/Users/zhaoyu/credential/zhaoyutest.json\"\n",
    "client = storage.Client()\n",
    "\n",
    "try:\n",
    "    bucket = client.get_bucket(\"zhaoyutimtest\")\n",
    "except NotFound:\n",
    "    print(\"Sorry, that bucket does not exist!\")"
   ],
   "metadata": {
    "collapsed": false,
    "pycharm": {
     "name": "#%%\n",
     "is_executing": false
    }
   }
  },
  {
   "cell_type": "code",
   "execution_count": 20,
   "outputs": [
    {
     "name": "stdout",
     "text": [
      "Found Cloud Storage bucket.\n"
     ],
     "output_type": "stream"
    }
   ],
   "source": [
    "import tensorflow as tf\n",
    "# Make sure you can see the output bucket.  You must have write access.\n",
    "print('Found Cloud Storage bucket.' if tf.io.gfile.exists('gs://' + \"zhaoyutimtest\") \n",
    "    else 'Can not find output Cloud Storage bucket.')"
   ],
   "metadata": {
    "collapsed": false,
    "pycharm": {
     "name": "#%%\n",
     "is_executing": false
    }
   }
  },
  {
   "cell_type": "code",
   "execution_count": 21,
   "outputs": [
    {
     "data": {
      "text/plain": "<IPython.core.display.HTML object>",
      "text/html": "<p>To authorize access needed by Earth Engine, open the following\n        URL in a web browser and follow the instructions:</p>\n        <p><a href=https://accounts.google.com/o/oauth2/auth?client_id=517222506229-vsmmajv00ul0bs7p89v5m89qs8eb9359.apps.googleusercontent.com&scope=https%3A%2F%2Fwww.googleapis.com%2Fauth%2Fearthengine+https%3A%2F%2Fwww.googleapis.com%2Fauth%2Fdevstorage.full_control&redirect_uri=urn%3Aietf%3Awg%3Aoauth%3A2.0%3Aoob&response_type=code&code_challenge=KIZDisgwuioEt-qUnicVlgEMAItfkiy9jdJ9ObefWFc&code_challenge_method=S256>https://accounts.google.com/o/oauth2/auth?client_id=517222506229-vsmmajv00ul0bs7p89v5m89qs8eb9359.apps.googleusercontent.com&scope=https%3A%2F%2Fwww.googleapis.com%2Fauth%2Fearthengine+https%3A%2F%2Fwww.googleapis.com%2Fauth%2Fdevstorage.full_control&redirect_uri=urn%3Aietf%3Awg%3Aoauth%3A2.0%3Aoob&response_type=code&code_challenge=KIZDisgwuioEt-qUnicVlgEMAItfkiy9jdJ9ObefWFc&code_challenge_method=S256</a></p>\n        <p>The authorization workflow will generate a code, which you\n        should paste in the box below</p>\n        "
     },
     "metadata": {},
     "output_type": "display_data"
    },
    {
     "name": "stdout",
     "text": [
      "\nSuccessfully saved authorization token.\n"
     ],
     "output_type": "stream"
    }
   ],
   "source": [
    "import ee\n",
    "ee.Authenticate()\n",
    "ee.Initialize()"
   ],
   "metadata": {
    "collapsed": false,
    "pycharm": {
     "name": "#%%\n",
     "is_executing": false
    }
   }
  },
  {
   "cell_type": "code",
   "execution_count": 22,
   "outputs": [],
   "source": [
    "USER_NAME = 'test'\n",
    "OUTPUT_BUCKET = 'zhaoyutimtest'\n",
    "L8SR = ee.ImageCollection('LANDSAT/LC08/C01/T1_SR')\n",
    "BANDS = ['B2', 'B3', 'B4', 'B5', 'B6', 'B7']\n",
    "LABEL_DATA = ee.FeatureCollection('projects/google/demo_landcover_labels')\n",
    "LABEL = 'landcover'\n",
    "N_CLASSES = 3\n",
    "FEATURE_NAMES = list(BANDS)\n",
    "FEATURE_NAMES.append(LABEL)\n",
    "TRAIN_FILE_PREFIX = 'Training_demo'\n",
    "TEST_FILE_PREFIX = 'Testing_demo'\n",
    "file_extension = '.tfrecord.gz'\n",
    "TRAIN_FILE_PATH = 'gs://' + OUTPUT_BUCKET + '/' + TRAIN_FILE_PREFIX + file_extension\n",
    "TEST_FILE_PATH = 'gs://' + OUTPUT_BUCKET + '/' + TEST_FILE_PREFIX + file_extension\n",
    "IMAGE_FILE_PREFIX = 'Image_pixel_demo_'\n",
    "OUTPUT_IMAGE_FILE = 'gs://' + OUTPUT_BUCKET + '/Classified_pixel_demo.TFRecord'\n",
    "EXPORT_REGION = ee.Geometry.Rectangle([-122.7, 37.3, -121.8, 38.00])\n",
    "OUTPUT_ASSET_ID = 'users/' + USER_NAME + '/Classified_pixel_demo'"
   ],
   "metadata": {
    "collapsed": false,
    "pycharm": {
     "name": "#%%\n",
     "is_executing": false
    }
   }
  },
  {
   "cell_type": "code",
   "execution_count": 23,
   "outputs": [
    {
     "data": {
      "text/plain": "<folium.folium.Map at 0x7ff13937ec90>",
      "text/html": "<div style=\"width:100%;\"><div style=\"position:relative;width:100%;height:0;padding-bottom:60%;\"><span style=\"color:#565656\">Make this Notebook Trusted to load map: File -> Trust Notebook</span><iframe src=\"about:blank\" style=\"position:absolute;width:100%;height:100%;left:0;top:0;border:none !important;\" data-html=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 onload=\"this.contentDocument.open();this.contentDocument.write(atob(this.getAttribute('data-html')));this.contentDocument.close();\" allowfullscreen webkitallowfullscreen mozallowfullscreen></iframe></div></div>"
     },
     "metadata": {},
     "output_type": "execute_result",
     "execution_count": 23
    }
   ],
   "source": [
    "# Cloud masking function.\n",
    "def maskL8sr(image):\n",
    "  cloudShadowBitMask = ee.Number(2).pow(3).int()\n",
    "  cloudsBitMask = ee.Number(2).pow(5).int()\n",
    "  qa = image.select('pixel_qa')\n",
    "  mask = qa.bitwiseAnd(cloudShadowBitMask).eq(0).And(\n",
    "    qa.bitwiseAnd(cloudsBitMask).eq(0))\n",
    "  return image.updateMask(mask).select(BANDS).divide(10000)\n",
    "\n",
    "# The image input data is a 2018 cloud-masked median composite.\n",
    "image = L8SR.filterDate('2018-01-01', '2018-12-31').map(maskL8sr).median()\n",
    "\n",
    "# Use folium to visualize the imagery.\n",
    "mapid = image.getMapId({'bands': ['B4', 'B3', 'B2'], 'min': 0, 'max': 0.3})\n",
    "map = folium.Map(location=[38., -122.5])\n",
    "\n",
    "folium.TileLayer(\n",
    "    tiles=mapid['tile_fetcher'].url_format,\n",
    "    attr='Map Data &copy; <a href=\"https://earthengine.google.com/\">Google Earth Engine</a>',\n",
    "    overlay=True,\n",
    "    name='median composite',\n",
    "  ).add_to(map)\n",
    "map.add_child(folium.LayerControl())"
   ],
   "metadata": {
    "collapsed": false,
    "pycharm": {
     "name": "#%%\n",
     "is_executing": false
    }
   }
  },
  {
   "cell_type": "code",
   "execution_count": 24,
   "outputs": [
    {
     "name": "stdout",
     "text": [
      "{'training': {'geometry': None,\n              'id': '00009f65e3c9ae02b84e_0',\n              'properties': {'B2': 0.05220000073313713,\n                             'B3': 0.062049999833106995,\n                             'B4': 0.03660000115633011,\n                             'B5': 0.01140000019222498,\n                             'B6': 0.006800000090152025,\n                             'B7': 0.005249999929219484,\n                             'landcover': 2,\n                             'random': 0.6494815572166289},\n              'type': 'Feature'}}\n",
      "{'testing': {'geometry': None,\n             'id': '00000aa0a6a6d7b77beb_0',\n             'properties': {'B2': 0.05079999938607216,\n                            'B3': 0.05820000171661377,\n                            'B4': 0.036649998277425766,\n                            'B5': 0.010400000028312206,\n                            'B6': 0.005849999841302633,\n                            'B7': 0.004749999847263098,\n                            'landcover': 2,\n                            'random': 0.9781082112232532},\n             'type': 'Feature'}}\n"
     ],
     "output_type": "stream"
    }
   ],
   "source": [
    "# Sample the image at the points and add a random column.\n",
    "sample = image.sampleRegions(\n",
    "  collection=LABEL_DATA, properties=[LABEL], scale=30).randomColumn()\n",
    "\n",
    "# Partition the sample approximately 70-30.\n",
    "training = sample.filter(ee.Filter.lt('random', 0.7))\n",
    "testing = sample.filter(ee.Filter.gte('random', 0.7))\n",
    "\n",
    "from pprint import pprint\n",
    "\n",
    "# Print the first couple points to verify.\n",
    "pprint({'training': training.first().getInfo()})\n",
    "pprint({'testing': testing.first().getInfo()})"
   ],
   "metadata": {
    "collapsed": false,
    "pycharm": {
     "name": "#%%\n",
     "is_executing": false
    }
   }
  },
  {
   "cell_type": "code",
   "execution_count": 25,
   "outputs": [
    {
     "name": "stdout",
     "text": [
      "Found Cloud Storage bucket.\n"
     ],
     "output_type": "stream"
    }
   ],
   "source": [
    "# Make sure you can see the output bucket.  You must have write access.\n",
    "print('Found Cloud Storage bucket.' if tf.io.gfile.exists('gs://' + OUTPUT_BUCKET) \n",
    "    else 'Can not find output Cloud Storage bucket.')"
   ],
   "metadata": {
    "collapsed": false,
    "pycharm": {
     "name": "#%%\n",
     "is_executing": false
    }
   }
  },
  {
   "cell_type": "code",
   "execution_count": 26,
   "outputs": [],
   "source": [
    "# Create the tasks.\n",
    "training_task = ee.batch.Export.table.toCloudStorage(\n",
    "  collection=training,\n",
    "  description='Training Export',\n",
    "  fileNamePrefix=TRAIN_FILE_PREFIX,\n",
    "  bucket=OUTPUT_BUCKET,\n",
    "  fileFormat='TFRecord',\n",
    "  selectors=FEATURE_NAMES)\n",
    "\n",
    "testing_task = ee.batch.Export.table.toCloudStorage(\n",
    "  collection=testing,\n",
    "  description='Testing Export',\n",
    "  fileNamePrefix=TEST_FILE_PREFIX,\n",
    "  bucket=OUTPUT_BUCKET,\n",
    "  fileFormat='TFRecord',\n",
    "  selectors=FEATURE_NAMES)"
   ],
   "metadata": {
    "collapsed": false,
    "pycharm": {
     "name": "#%%\n",
     "is_executing": false
    }
   }
  },
  {
   "cell_type": "code",
   "execution_count": 27,
   "outputs": [],
   "source": [
    "# Start the tasks.\n",
    "training_task.start()\n",
    "testing_task.start()\n",
    "\n",
    "import time\n",
    "\n",
    "while training_task.active():\n",
    "  print('Polling for task (id: {}).'.format(training_task.id))\n",
    "  time.sleep(30)\n",
    "print('Done with image export.')"
   ],
   "metadata": {
    "collapsed": false,
    "pycharm": {
     "name": "#%%\n",
     "is_executing": false
    }
   }
  },
  {
   "cell_type": "code",
   "execution_count": 29,
   "outputs": [
    {
     "name": "stdout",
     "text": [
      "Found training file.\nFound testing file.\n"
     ],
     "output_type": "stream"
    }
   ],
   "source": [
    "print('Found training file.' if tf.io.gfile.exists(TRAIN_FILE_PATH) \n",
    "    else 'No training file found.')\n",
    "print('Found testing file.' if tf.io.gfile.exists(TEST_FILE_PATH) \n",
    "    else 'No testing file found.')"
   ],
   "metadata": {
    "collapsed": false,
    "pycharm": {
     "name": "#%%\n",
     "is_executing": false
    }
   }
  },
  {
   "cell_type": "code",
   "execution_count": 30,
   "outputs": [
    {
     "name": "stdout",
     "text": [
      "Polling for task (id: OZDQPWOWRZZXL6HIBPGONJ4H).\n",
      "Polling for task (id: OZDQPWOWRZZXL6HIBPGONJ4H).\n",
      "Polling for task (id: OZDQPWOWRZZXL6HIBPGONJ4H).\n",
      "Polling for task (id: OZDQPWOWRZZXL6HIBPGONJ4H).\n",
      "Polling for task (id: OZDQPWOWRZZXL6HIBPGONJ4H).\n",
      "Polling for task (id: OZDQPWOWRZZXL6HIBPGONJ4H).\n",
      "Polling for task (id: OZDQPWOWRZZXL6HIBPGONJ4H).\n",
      "Polling for task (id: OZDQPWOWRZZXL6HIBPGONJ4H).\n",
      "Done with image export.\n"
     ],
     "output_type": "stream"
    }
   ],
   "source": [
    "image_export_options = {\n",
    "  'patchDimensions': [256, 256],\n",
    "  'maxFileSize': 104857600,\n",
    "  'compressed': True\n",
    "}\n",
    "\n",
    "# Setup the task.\n",
    "image_task = ee.batch.Export.image.toCloudStorage(\n",
    "  image=image,\n",
    "  description='Image Export',\n",
    "  fileNamePrefix=IMAGE_FILE_PREFIX,\n",
    "  bucket=OUTPUT_BUCKET,\n",
    "  scale=30,\n",
    "  fileFormat='TFRecord',\n",
    "  region=EXPORT_REGION.toGeoJSON()['coordinates'],\n",
    "  formatOptions=image_export_options,\n",
    ")\n",
    "\n",
    "image_task.start()\n",
    "\n",
    "while image_task.active():\n",
    "  print('Polling for task (id: {}).'.format(image_task.id))\n",
    "  time.sleep(30)\n",
    "print('Done with image export.')"
   ],
   "metadata": {
    "collapsed": false,
    "pycharm": {
     "name": "#%%\n",
     "is_executing": false
    }
   }
  },
  {
   "cell_type": "code",
   "execution_count": 31,
   "outputs": [
    {
     "name": "stdout",
     "text": [
      "tf.Tensor(b'\\nw\\n\\x0e\\n\\x02B2\\x12\\x08\\x12\\x06\\n\\x04\\xab\\xcfU=\\n\\x0e\\n\\x02B3\\x12\\x08\\x12\\x06\\n\\x04$(~=\\n\\x0e\\n\\x02B4\\x12\\x08\\x12\\x06\\n\\x04\\xe2\\xe9\\x15=\\n\\x0e\\n\\x02B5\\x12\\x08\\x12\\x06\\n\\x04\\x11\\xc7:<\\n\\x0e\\n\\x02B6\\x12\\x08\\x12\\x06\\n\\x04\\x89\\xd2\\xde;\\n\\x0e\\n\\x02B7\\x12\\x08\\x12\\x06\\n\\x041\\x08\\xac;\\n\\x15\\n\\tlandcover\\x12\\x08\\x12\\x06\\n\\x04\\x00\\x00\\x00@', shape=(), dtype=string)\n"
     ],
     "output_type": "stream"
    }
   ],
   "source": [
    "# Create a dataset from the TFRecord file in Cloud Storage.\n",
    "train_dataset = tf.data.TFRecordDataset(TRAIN_FILE_PATH, compression_type='GZIP')\n",
    "# Print the first record to check.\n",
    "print(iter(train_dataset).next())"
   ],
   "metadata": {
    "collapsed": false,
    "pycharm": {
     "name": "#%%\n",
     "is_executing": false
    }
   }
  },
  {
   "cell_type": "code",
   "execution_count": 32,
   "outputs": [
    {
     "name": "stdout",
     "text": [
      "{'B2': FixedLenFeature(shape=[1], dtype=tf.float32, default_value=None),\n 'B3': FixedLenFeature(shape=[1], dtype=tf.float32, default_value=None),\n 'B4': FixedLenFeature(shape=[1], dtype=tf.float32, default_value=None),\n 'B5': FixedLenFeature(shape=[1], dtype=tf.float32, default_value=None),\n 'B6': FixedLenFeature(shape=[1], dtype=tf.float32, default_value=None),\n 'B7': FixedLenFeature(shape=[1], dtype=tf.float32, default_value=None),\n 'landcover': FixedLenFeature(shape=[1], dtype=tf.float32, default_value=None)}\n"
     ],
     "output_type": "stream"
    }
   ],
   "source": [
    "# List of fixed-length features, all of which are float32.\n",
    "columns = [\n",
    "  tf.io.FixedLenFeature(shape=[1], dtype=tf.float32) for k in FEATURE_NAMES\n",
    "]\n",
    "\n",
    "# Dictionary with names as keys, features as values.\n",
    "features_dict = dict(zip(FEATURE_NAMES, columns))\n",
    "\n",
    "pprint(features_dict)"
   ],
   "metadata": {
    "collapsed": false,
    "pycharm": {
     "name": "#%%\n",
     "is_executing": false
    }
   }
  },
  {
   "cell_type": "code",
   "execution_count": 33,
   "outputs": [
    {
     "name": "stdout",
     "text": [
      "({'B2': <tf.Tensor: shape=(1,), dtype=float32, numpy=array([0.0522], dtype=float32)>,\n  'B3': <tf.Tensor: shape=(1,), dtype=float32, numpy=array([0.06205], dtype=float32)>,\n  'B4': <tf.Tensor: shape=(1,), dtype=float32, numpy=array([0.0366], dtype=float32)>,\n  'B5': <tf.Tensor: shape=(1,), dtype=float32, numpy=array([0.0114], dtype=float32)>,\n  'B6': <tf.Tensor: shape=(1,), dtype=float32, numpy=array([0.0068], dtype=float32)>,\n  'B7': <tf.Tensor: shape=(1,), dtype=float32, numpy=array([0.00525], dtype=float32)>},\n <tf.Tensor: shape=(1,), dtype=int32, numpy=array([2], dtype=int32)>)\n"
     ],
     "output_type": "stream"
    }
   ],
   "source": [
    "def parse_tfrecord(example_proto):\n",
    "  \"\"\"The parsing function.\n",
    "\n",
    "  Read a serialized example into the structure defined by featuresDict.\n",
    "\n",
    "  Args:\n",
    "    example_proto: a serialized Example.\n",
    "\n",
    "  Returns:\n",
    "    A tuple of the predictors dictionary and the label, cast to an `int32`.\n",
    "  \"\"\"\n",
    "  parsed_features = tf.io.parse_single_example(example_proto, features_dict)\n",
    "  labels = parsed_features.pop(LABEL)\n",
    "  return parsed_features, tf.cast(labels, tf.int32)\n",
    "\n",
    "# Map the function over the dataset.\n",
    "parsed_dataset = train_dataset.map(parse_tfrecord, num_parallel_calls=5)\n",
    "\n",
    "# Print the first parsed record to check.\n",
    "pprint(iter(parsed_dataset).next())"
   ],
   "metadata": {
    "collapsed": false,
    "pycharm": {
     "name": "#%%\n",
     "is_executing": false
    }
   }
  },
  {
   "cell_type": "code",
   "execution_count": 37,
   "outputs": [
    {
     "data": {
      "text/plain": "<ParallelMapDataset shapes: ({B2: (1,), B3: (1,), B4: (1,), B5: (1,), B6: (1,), B7: (1,)}, (1,)), types: ({B2: tf.float32, B3: tf.float32, B4: tf.float32, B5: tf.float32, B6: tf.float32, B7: tf.float32}, tf.int32)>"
     },
     "metadata": {},
     "output_type": "execute_result",
     "execution_count": 37
    }
   ],
   "source": [
    "parsed_dataset"
   ],
   "metadata": {
    "collapsed": false,
    "pycharm": {
     "name": "#%%\n",
     "is_executing": false
    }
   }
  },
  {
   "cell_type": "code",
   "execution_count": 34,
   "outputs": [],
   "source": [
    "def normalized_difference(a, b):\n",
    "  \"\"\"Compute normalized difference of two inputs.\n",
    "\n",
    "  Compute (a - b) / (a + b).  If the denomenator is zero, add a small delta.\n",
    "\n",
    "  Args:\n",
    "    a: an input tensor with shape=[1]\n",
    "    b: an input tensor with shape=[1]\n",
    "\n",
    "  Returns:\n",
    "    The normalized difference as a tensor.\n",
    "  \"\"\"\n",
    "  nd = (a - b) / (a + b)\n",
    "  nd_inf = (a - b) / (a + b + 0.000001)\n",
    "  return tf.where(tf.math.is_finite(nd), nd, nd_inf)\n",
    "\n",
    "def add_NDVI(features, label):\n",
    "  \"\"\"Add NDVI to the dataset.\n",
    "  Args:\n",
    "    features: a dictionary of input tensors keyed by feature name.\n",
    "    label: the target label\n",
    "\n",
    "  Returns:\n",
    "    A tuple of the input dictionary with an NDVI tensor added and the label.\n",
    "  \"\"\"\n",
    "  features['NDVI'] = normalized_difference(features['B5'], features['B4'])\n",
    "  return features, label\n"
   ],
   "metadata": {
    "collapsed": false,
    "pycharm": {
     "name": "#%%\n",
     "is_executing": false
    }
   }
  },
  {
   "cell_type": "code",
   "execution_count": 43,
   "outputs": [
    {
     "name": "stdout",
     "text": [
      "Epoch 1/10\n",
      "\r      1/Unknown - 0s 62us/step - loss: 1.0771 - accuracy: 0.6250",
      "\b\b\b\b\b\b\b\b\b\b\b\b\b\b\b\b\b\b\b\b\b\b\b\b\b\b\b\b\b\b\b\b\b\b\b\b\b\b\b\b\b\b\b\b\b\b\b\b\b\b\b\b\b\b\b\b\b\b\b\b\b\b\b\b\r9/9 [==============================] - 0s 2ms/step - loss: 1.1019 - accuracy: 0.5507\n",
      "Epoch 2/10\n\r1/9 [==>...........................] - ETA: 0s - loss: 1.0514 - accuracy: 0.7500",
      "\b\b\b\b\b\b\b\b\b\b\b\b\b\b\b\b\b\b\b\b\b\b\b\b\b\b\b\b\b\b\b\b\b\b\b\b\b\b\b\b\b\b\b\b\b\b\b\b\b\b\b\b\b\b\b\b\b\b\b\b\b\b\b\b\b\b\b\b\b\b\b\b\b\b\b\b\b\b\b\b\r9/9 [==============================] - 0s 2ms/step - loss: 1.0663 - accuracy: 0.6522\n",
      "Epoch 3/10\n",
      "\r1/9 [==>...........................] - ETA: 0s - loss: 1.0543 - accuracy: 0.7500",
      "\b\b\b\b\b\b\b\b\b\b\b\b\b\b\b\b\b\b\b\b\b\b\b\b\b\b\b\b\b\b\b\b\b\b\b\b\b\b\b\b\b\b\b\b\b\b\b\b\b\b\b\b\b\b\b\b\b\b\b\b\b\b\b\b\b\b\b\b\b\b\b\b\b\b\b\b\b\b\b\b\r9/9 [==============================] - 0s 2ms/step - loss: 1.0238 - accuracy: 0.7246\n",
      "Epoch 4/10\n",
      "\r1/9 [==>...........................] - ETA: 0s - loss: 1.0285 - accuracy: 0.8750",
      "\b\b\b\b\b\b\b\b\b\b\b\b\b\b\b\b\b\b\b\b\b\b\b\b\b\b\b\b\b\b\b\b\b\b\b\b\b\b\b\b\b\b\b\b\b\b\b\b\b\b\b\b\b\b\b\b\b\b\b\b\b\b\b\b\b\b\b\b\b\b\b\b\b\b\b\b\b\b\b\b\r9/9 [==============================] - 0s 2ms/step - loss: 0.9913 - accuracy: 0.7971\n",
      "Epoch 5/10\n",
      "\r1/9 [==>...........................] - ETA: 0s - loss: 1.0089 - accuracy: 0.7500",
      "\b\b\b\b\b\b\b\b\b\b\b\b\b\b\b\b\b\b\b\b\b\b\b\b\b\b\b\b\b\b\b\b\b\b\b\b\b\b\b\b\b\b\b\b\b\b\b\b\b\b\b\b\b\b\b\b\b\b\b\b\b\b\b\b\b\b\b\b\b\b\b\b\b\b\b\b\b\b\b\b\r9/9 [==============================] - 0s 3ms/step - loss: 0.9607 - accuracy: 0.8116\n",
      "Epoch 6/10\n",
      "\r1/9 [==>...........................] - ETA: 0s - loss: 0.9909 - accuracy: 0.8750",
      "\b\b\b\b\b\b\b\b\b\b\b\b\b\b\b\b\b\b\b\b\b\b\b\b\b\b\b\b\b\b\b\b\b\b\b\b\b\b\b\b\b\b\b\b\b\b\b\b\b\b\b\b\b\b\b\b\b\b\b\b\b\b\b\b\b\b\b\b\b\b\b\b\b\b\b\b\b\b\b\b\r9/9 [==============================] - 0s 2ms/step - loss: 0.9335 - accuracy: 0.8551\n",
      "Epoch 7/10\n",
      "\r1/9 [==>...........................] - ETA: 0s - loss: 0.9701 - accuracy: 1.0000",
      "\b\b\b\b\b\b\b\b\b\b\b\b\b\b\b\b\b\b\b\b\b\b\b\b\b\b\b\b\b\b\b\b\b\b\b\b\b\b\b\b\b\b\b\b\b\b\b\b\b\b\b\b\b\b\b\b\b\b\b\b\b\b\b\b\b\b\b\b\b\b\b\b\b\b\b\b\b\b\b\b\r9/9 [==============================] - 0s 2ms/step - loss: 0.8973 - accuracy: 0.9275\n",
      "Epoch 8/10\n\r1/9 [==>...........................] - ETA: 0s - loss: 0.9441 - accuracy: 0.7500",
      "\b\b\b\b\b\b\b\b\b\b\b\b\b\b\b\b\b\b\b\b\b\b\b\b\b\b\b\b\b\b\b\b\b\b\b\b\b\b\b\b\b\b\b\b\b\b\b\b\b\b\b\b\b\b\b\b\b\b\b\b\b\b\b\b\b\b\b\b\b\b\b\b\b\b\b\b\b\b\b\b\r9/9 [==============================] - 0s 2ms/step - loss: 0.8710 - accuracy: 0.8841\n",
      "Epoch 9/10\n",
      "\r1/9 [==>...........................] - ETA: 0s - loss: 0.9082 - accuracy: 1.0000",
      "\b\b\b\b\b\b\b\b\b\b\b\b\b\b\b\b\b\b\b\b\b\b\b\b\b\b\b\b\b\b\b\b\b\b\b\b\b\b\b\b\b\b\b\b\b\b\b\b\b\b\b\b\b\b\b\b\b\b\b\b\b\b\b\b\b\b\b\b\b\b\b\b\b\b\b\b\b\b\b\b\r9/9 [==============================] - 0s 4ms/step - loss: 0.8368 - accuracy: 0.9420\n",
      "Epoch 10/10\n",
      "\r1/9 [==>...........................] - ETA: 0s - loss: 0.8795 - accuracy: 1.0000",
      "\b\b\b\b\b\b\b\b\b\b\b\b\b\b\b\b\b\b\b\b\b\b\b\b\b\b\b\b\b\b\b\b\b\b\b\b\b\b\b\b\b\b\b\b\b\b\b\b\b\b\b\b\b\b\b\b\b\b\b\b\b\b\b\b\b\b\b\b\b\b\b\b\b\b\b\b\b\b\b\b\r9/9 [==============================] - 0s 3ms/step - loss: 0.7966 - accuracy: 0.9710\n"
     ],
     "output_type": "stream"
    },
    {
     "data": {
      "text/plain": "<tensorflow.python.keras.callbacks.History at 0x7ff11efeb450>"
     },
     "metadata": {},
     "output_type": "execute_result",
     "execution_count": 43
    }
   ],
   "source": [
    "from tensorflow import keras\n",
    "\n",
    "# Add NDVI.\n",
    "input_dataset = parsed_dataset.map(add_NDVI)\n",
    "\n",
    "# Keras requires inputs as a tuple.  Note that the inputs must be in the\n",
    "# right shape.  Also note that to use the categorical_crossentropy loss,\n",
    "# the label needs to be turned into a one-hot vector.\n",
    "def to_tuple(inputs, label):\n",
    "  return (tf.transpose(list(inputs.values())),\n",
    "          tf.one_hot(indices=label, depth=N_CLASSES))\n",
    "\n",
    "# Map the to_tuple function, shuffle and batch.\n",
    "input_dataset = input_dataset.map(to_tuple).batch(8)\n",
    "\n",
    "# Define the layers in the model.\n",
    "model = tf.keras.models.Sequential([\n",
    "  tf.keras.layers.Dense(64, activation=tf.nn.relu),\n",
    "  tf.keras.layers.Dropout(0.2),\n",
    "  tf.keras.layers.Dense(N_CLASSES, activation=tf.nn.softmax)\n",
    "])\n",
    "\n",
    "# Compile the model with the specified loss function.\n",
    "model.compile(optimizer=tf.keras.optimizers.Adam(),\n",
    "              loss='categorical_crossentropy',\n",
    "              metrics=['accuracy'])\n",
    "\n",
    "# Fit the model to the training data.\n",
    "model.fit(x=input_dataset, epochs=10)"
   ],
   "metadata": {
    "collapsed": false,
    "pycharm": {
     "name": "#%%\n",
     "is_executing": false
    }
   }
  },
  {
   "cell_type": "code",
   "execution_count": 52,
   "outputs": [
    {
     "data": {
      "text/plain": "[({'B2': array([0.0522], dtype=float32),\n   'B3': array([0.06205], dtype=float32),\n   'B4': array([0.0366], dtype=float32),\n   'B5': array([0.0114], dtype=float32),\n   'B6': array([0.0068], dtype=float32),\n   'B7': array([0.00525], dtype=float32)},\n  array([2], dtype=int32)),\n ({'B2': array([0.04915], dtype=float32),\n   'B3': array([0.06965], dtype=float32),\n   'B4': array([0.08975], dtype=float32),\n   'B5': array([0.1729], dtype=float32),\n   'B6': array([0.2126], dtype=float32),\n   'B7': array([0.1515], dtype=float32)},\n  array([1], dtype=int32)),\n ({'B2': array([0.0583], dtype=float32),\n   'B3': array([0.0856], dtype=float32),\n   'B4': array([0.1162], dtype=float32),\n   'B5': array([0.2439], dtype=float32),\n   'B6': array([0.296], dtype=float32),\n   'B7': array([0.1982], dtype=float32)},\n  array([1], dtype=int32)),\n ({'B2': array([0.0812], dtype=float32),\n   'B3': array([0.0972], dtype=float32),\n   'B4': array([0.1018], dtype=float32),\n   'B5': array([0.1158], dtype=float32),\n   'B6': array([0.134], dtype=float32),\n   'B7': array([0.1167], dtype=float32)},\n  array([0], dtype=int32)),\n ({'B2': array([0.06555], dtype=float32),\n   'B3': array([0.0814], dtype=float32),\n   'B4': array([0.0911], dtype=float32),\n   'B5': array([0.13265], dtype=float32),\n   'B6': array([0.1327], dtype=float32),\n   'B7': array([0.1127], dtype=float32)},\n  array([0], dtype=int32)),\n ({'B2': array([0.0795], dtype=float32),\n   'B3': array([0.10585], dtype=float32),\n   'B4': array([0.1249], dtype=float32),\n   'B5': array([0.22045], dtype=float32),\n   'B6': array([0.2118], dtype=float32),\n   'B7': array([0.17435], dtype=float32)},\n  array([0], dtype=int32)),\n ({'B2': array([0.0603], dtype=float32),\n   'B3': array([0.0852], dtype=float32),\n   'B4': array([0.0946], dtype=float32),\n   'B5': array([0.1393], dtype=float32),\n   'B6': array([0.1675], dtype=float32),\n   'B7': array([0.1308], dtype=float32)},\n  array([0], dtype=int32)),\n ({'B2': array([0.0915], dtype=float32),\n   'B3': array([0.116], dtype=float32),\n   'B4': array([0.1234], dtype=float32),\n   'B5': array([0.1418], dtype=float32),\n   'B6': array([0.1567], dtype=float32),\n   'B7': array([0.1414], dtype=float32)},\n  array([0], dtype=int32)),\n ({'B2': array([0.0914], dtype=float32),\n   'B3': array([0.11965], dtype=float32),\n   'B4': array([0.1325], dtype=float32),\n   'B5': array([0.16015], dtype=float32),\n   'B6': array([0.1763], dtype=float32),\n   'B7': array([0.1489], dtype=float32)},\n  array([0], dtype=int32)),\n ({'B2': array([0.0713], dtype=float32),\n   'B3': array([0.0901], dtype=float32),\n   'B4': array([0.0969], dtype=float32),\n   'B5': array([0.1917], dtype=float32),\n   'B6': array([0.1582], dtype=float32),\n   'B7': array([0.1209], dtype=float32)},\n  array([0], dtype=int32)),\n ({'B2': array([0.09515], dtype=float32),\n   'B3': array([0.1077], dtype=float32),\n   'B4': array([0.10905], dtype=float32),\n   'B5': array([0.1666], dtype=float32),\n   'B6': array([0.1623], dtype=float32),\n   'B7': array([0.13055], dtype=float32)},\n  array([0], dtype=int32)),\n ({'B2': array([0.061], dtype=float32),\n   'B3': array([0.0792], dtype=float32),\n   'B4': array([0.0843], dtype=float32),\n   'B5': array([0.175], dtype=float32),\n   'B6': array([0.1432], dtype=float32),\n   'B7': array([0.1099], dtype=float32)},\n  array([0], dtype=int32)),\n ({'B2': array([0.077], dtype=float32),\n   'B3': array([0.1095], dtype=float32),\n   'B4': array([0.1222], dtype=float32),\n   'B5': array([0.1501], dtype=float32),\n   'B6': array([0.175], dtype=float32),\n   'B7': array([0.1546], dtype=float32)},\n  array([0], dtype=int32)),\n ({'B2': array([0.0484], dtype=float32),\n   'B3': array([0.0587], dtype=float32),\n   'B4': array([0.0371], dtype=float32),\n   'B5': array([0.0099], dtype=float32),\n   'B6': array([0.0061], dtype=float32),\n   'B7': array([0.0043], dtype=float32)},\n  array([2], dtype=int32)),\n ({'B2': array([0.1127], dtype=float32),\n   'B3': array([0.1333], dtype=float32),\n   'B4': array([0.1413], dtype=float32),\n   'B5': array([0.1658], dtype=float32),\n   'B6': array([0.1396], dtype=float32),\n   'B7': array([0.1113], dtype=float32)},\n  array([0], dtype=int32)),\n ({'B2': array([0.1516], dtype=float32),\n   'B3': array([0.1519], dtype=float32),\n   'B4': array([0.1632], dtype=float32),\n   'B5': array([0.1674], dtype=float32),\n   'B6': array([0.1845], dtype=float32),\n   'B7': array([0.16], dtype=float32)},\n  array([0], dtype=int32)),\n ({'B2': array([0.08375], dtype=float32),\n   'B3': array([0.0998], dtype=float32),\n   'B4': array([0.1042], dtype=float32),\n   'B5': array([0.163], dtype=float32),\n   'B6': array([0.1448], dtype=float32),\n   'B7': array([0.11895], dtype=float32)},\n  array([0], dtype=int32)),\n ({'B2': array([0.04785], dtype=float32),\n   'B3': array([0.05115], dtype=float32),\n   'B4': array([0.02795], dtype=float32),\n   'B5': array([0.00885], dtype=float32),\n   'B6': array([0.0053], dtype=float32),\n   'B7': array([0.00445], dtype=float32)},\n  array([2], dtype=int32)),\n ({'B2': array([0.04735], dtype=float32),\n   'B3': array([0.0543], dtype=float32),\n   'B4': array([0.03135], dtype=float32),\n   'B5': array([0.00805], dtype=float32),\n   'B6': array([0.00475], dtype=float32),\n   'B7': array([0.00425], dtype=float32)},\n  array([2], dtype=int32)),\n ({'B2': array([0.052], dtype=float32),\n   'B3': array([0.06205], dtype=float32),\n   'B4': array([0.0368], dtype=float32),\n   'B5': array([0.0113], dtype=float32),\n   'B6': array([0.0074], dtype=float32),\n   'B7': array([0.0059], dtype=float32)},\n  array([2], dtype=int32)),\n ({'B2': array([0.0256], dtype=float32),\n   'B3': array([0.04135], dtype=float32),\n   'B4': array([0.0353], dtype=float32),\n   'B5': array([0.12895], dtype=float32),\n   'B6': array([0.1238], dtype=float32),\n   'B7': array([0.07055], dtype=float32)},\n  array([1], dtype=int32)),\n ({'B2': array([0.0404], dtype=float32),\n   'B3': array([0.0561], dtype=float32),\n   'B4': array([0.066], dtype=float32),\n   'B5': array([0.1667], dtype=float32),\n   'B6': array([0.2111], dtype=float32),\n   'B7': array([0.1308], dtype=float32)},\n  array([1], dtype=int32)),\n ({'B2': array([0.0337], dtype=float32),\n   'B3': array([0.0469], dtype=float32),\n   'B4': array([0.052], dtype=float32),\n   'B5': array([0.1731], dtype=float32),\n   'B6': array([0.1665], dtype=float32),\n   'B7': array([0.1029], dtype=float32)},\n  array([1], dtype=int32)),\n ({'B2': array([0.0458], dtype=float32),\n   'B3': array([0.0509], dtype=float32),\n   'B4': array([0.0266], dtype=float32),\n   'B5': array([0.0126], dtype=float32),\n   'B6': array([0.00915], dtype=float32),\n   'B7': array([0.00685], dtype=float32)},\n  array([2], dtype=int32)),\n ({'B2': array([0.0419], dtype=float32),\n   'B3': array([0.0404], dtype=float32),\n   'B4': array([0.0195], dtype=float32),\n   'B5': array([0.0086], dtype=float32),\n   'B6': array([0.0058], dtype=float32),\n   'B7': array([0.0048], dtype=float32)},\n  array([2], dtype=int32)),\n ({'B2': array([0.04165], dtype=float32),\n   'B3': array([0.04485], dtype=float32),\n   'B4': array([0.02365], dtype=float32),\n   'B5': array([0.0118], dtype=float32),\n   'B6': array([0.00845], dtype=float32),\n   'B7': array([0.00685], dtype=float32)},\n  array([2], dtype=int32)),\n ({'B2': array([0.0446], dtype=float32),\n   'B3': array([0.045], dtype=float32),\n   'B4': array([0.0232], dtype=float32),\n   'B5': array([0.0129], dtype=float32),\n   'B6': array([0.0089], dtype=float32),\n   'B7': array([0.0072], dtype=float32)},\n  array([2], dtype=int32)),\n ({'B2': array([0.03885], dtype=float32),\n   'B3': array([0.0408], dtype=float32),\n   'B4': array([0.02], dtype=float32),\n   'B5': array([0.00875], dtype=float32),\n   'B6': array([0.0058], dtype=float32),\n   'B7': array([0.0043], dtype=float32)},\n  array([2], dtype=int32)),\n ({'B2': array([0.0387], dtype=float32),\n   'B3': array([0.0402], dtype=float32),\n   'B4': array([0.02], dtype=float32),\n   'B5': array([0.0114], dtype=float32),\n   'B6': array([0.0073], dtype=float32),\n   'B7': array([0.0057], dtype=float32)},\n  array([2], dtype=int32)),\n ({'B2': array([0.05405], dtype=float32),\n   'B3': array([0.0778], dtype=float32),\n   'B4': array([0.0879], dtype=float32),\n   'B5': array([0.23285], dtype=float32),\n   'B6': array([0.2657], dtype=float32),\n   'B7': array([0.17545], dtype=float32)},\n  array([1], dtype=int32)),\n ({'B2': array([0.0427], dtype=float32),\n   'B3': array([0.0589], dtype=float32),\n   'B4': array([0.0619], dtype=float32),\n   'B5': array([0.1958], dtype=float32),\n   'B6': array([0.2214], dtype=float32),\n   'B7': array([0.134], dtype=float32)},\n  array([1], dtype=int32)),\n ({'B2': array([0.0397], dtype=float32),\n   'B3': array([0.0574], dtype=float32),\n   'B4': array([0.0564], dtype=float32),\n   'B5': array([0.1895], dtype=float32),\n   'B6': array([0.2054], dtype=float32),\n   'B7': array([0.1243], dtype=float32)},\n  array([1], dtype=int32)),\n ({'B2': array([0.0311], dtype=float32),\n   'B3': array([0.0561], dtype=float32),\n   'B4': array([0.049], dtype=float32),\n   'B5': array([0.2582], dtype=float32),\n   'B6': array([0.1975], dtype=float32),\n   'B7': array([0.1071], dtype=float32)},\n  array([1], dtype=int32)),\n ({'B2': array([0.0277], dtype=float32),\n   'B3': array([0.0462], dtype=float32),\n   'B4': array([0.0377], dtype=float32),\n   'B5': array([0.2457], dtype=float32),\n   'B6': array([0.1829], dtype=float32),\n   'B7': array([0.0983], dtype=float32)},\n  array([1], dtype=int32)),\n ({'B2': array([0.1794], dtype=float32),\n   'B3': array([0.2182], dtype=float32),\n   'B4': array([0.23495], dtype=float32),\n   'B5': array([0.23595], dtype=float32),\n   'B6': array([0.2718], dtype=float32),\n   'B7': array([0.28215], dtype=float32)},\n  array([0], dtype=int32)),\n ({'B2': array([0.2375], dtype=float32),\n   'B3': array([0.2656], dtype=float32),\n   'B4': array([0.2717], dtype=float32),\n   'B5': array([0.2696], dtype=float32),\n   'B6': array([0.3156], dtype=float32),\n   'B7': array([0.3432], dtype=float32)},\n  array([0], dtype=int32)),\n ({'B2': array([0.201], dtype=float32),\n   'B3': array([0.2345], dtype=float32),\n   'B4': array([0.2452], dtype=float32),\n   'B5': array([0.2395], dtype=float32),\n   'B6': array([0.2287], dtype=float32),\n   'B7': array([0.1962], dtype=float32)},\n  array([0], dtype=int32)),\n ({'B2': array([0.1831], dtype=float32),\n   'B3': array([0.2263], dtype=float32),\n   'B4': array([0.2334], dtype=float32),\n   'B5': array([0.26515], dtype=float32),\n   'B6': array([0.3525], dtype=float32),\n   'B7': array([0.30925], dtype=float32)},\n  array([0], dtype=int32)),\n ({'B2': array([0.47685], dtype=float32),\n   'B3': array([0.54215], dtype=float32),\n   'B4': array([0.5874], dtype=float32),\n   'B5': array([0.62745], dtype=float32),\n   'B6': array([0.52245], dtype=float32),\n   'B7': array([0.2726], dtype=float32)},\n  array([0], dtype=int32)),\n ({'B2': array([0.0218], dtype=float32),\n   'B3': array([0.0386], dtype=float32),\n   'B4': array([0.0282], dtype=float32),\n   'B5': array([0.1845], dtype=float32),\n   'B6': array([0.1405], dtype=float32),\n   'B7': array([0.0713], dtype=float32)},\n  array([1], dtype=int32)),\n ({'B2': array([0.0225], dtype=float32),\n   'B3': array([0.0432], dtype=float32),\n   'B4': array([0.0302], dtype=float32),\n   'B5': array([0.1943], dtype=float32),\n   'B6': array([0.1404], dtype=float32),\n   'B7': array([0.0723], dtype=float32)},\n  array([1], dtype=int32)),\n ({'B2': array([0.0243], dtype=float32),\n   'B3': array([0.0444], dtype=float32),\n   'B4': array([0.0369], dtype=float32),\n   'B5': array([0.2312], dtype=float32),\n   'B6': array([0.1618], dtype=float32),\n   'B7': array([0.0871], dtype=float32)},\n  array([1], dtype=int32)),\n ({'B2': array([0.0193], dtype=float32),\n   'B3': array([0.036], dtype=float32),\n   'B4': array([0.0296], dtype=float32),\n   'B5': array([0.1806], dtype=float32),\n   'B6': array([0.134], dtype=float32),\n   'B7': array([0.0679], dtype=float32)},\n  array([1], dtype=int32)),\n ({'B2': array([0.0245], dtype=float32),\n   'B3': array([0.0481], dtype=float32),\n   'B4': array([0.0409], dtype=float32),\n   'B5': array([0.2525], dtype=float32),\n   'B6': array([0.1762], dtype=float32),\n   'B7': array([0.0934], dtype=float32)},\n  array([1], dtype=int32)),\n ({'B2': array([0.1223], dtype=float32),\n   'B3': array([0.1584], dtype=float32),\n   'B4': array([0.1704], dtype=float32),\n   'B5': array([0.1858], dtype=float32),\n   'B6': array([0.1996], dtype=float32),\n   'B7': array([0.159], dtype=float32)},\n  array([0], dtype=int32)),\n ({'B2': array([0.1422], dtype=float32),\n   'B3': array([0.1709], dtype=float32),\n   'B4': array([0.1802], dtype=float32),\n   'B5': array([0.2081], dtype=float32),\n   'B6': array([0.1925], dtype=float32),\n   'B7': array([0.1451], dtype=float32)},\n  array([0], dtype=int32)),\n ({'B2': array([0.164], dtype=float32),\n   'B3': array([0.1851], dtype=float32),\n   'B4': array([0.2009], dtype=float32),\n   'B5': array([0.2224], dtype=float32),\n   'B6': array([0.2298], dtype=float32),\n   'B7': array([0.1869], dtype=float32)},\n  array([0], dtype=int32)),\n ({'B2': array([0.12665], dtype=float32),\n   'B3': array([0.1514], dtype=float32),\n   'B4': array([0.1658], dtype=float32),\n   'B5': array([0.1812], dtype=float32),\n   'B6': array([0.18025], dtype=float32),\n   'B7': array([0.14665], dtype=float32)},\n  array([0], dtype=int32)),\n ({'B2': array([0.0609], dtype=float32),\n   'B3': array([0.0883], dtype=float32),\n   'B4': array([0.1122], dtype=float32),\n   'B5': array([0.2311], dtype=float32),\n   'B6': array([0.2156], dtype=float32),\n   'B7': array([0.1577], dtype=float32)},\n  array([0], dtype=int32)),\n ({'B2': array([0.0596], dtype=float32),\n   'B3': array([0.0697], dtype=float32),\n   'B4': array([0.0714], dtype=float32),\n   'B5': array([0.0971], dtype=float32),\n   'B6': array([0.1163], dtype=float32),\n   'B7': array([0.1069], dtype=float32)},\n  array([0], dtype=int32)),\n ({'B2': array([0.0484], dtype=float32),\n   'B3': array([0.0547], dtype=float32),\n   'B4': array([0.0304], dtype=float32),\n   'B5': array([0.012], dtype=float32),\n   'B6': array([0.0076], dtype=float32),\n   'B7': array([0.0059], dtype=float32)},\n  array([2], dtype=int32)),\n ({'B2': array([0.0508], dtype=float32),\n   'B3': array([0.0597], dtype=float32),\n   'B4': array([0.034], dtype=float32),\n   'B5': array([0.0128], dtype=float32),\n   'B6': array([0.0084], dtype=float32),\n   'B7': array([0.0066], dtype=float32)},\n  array([2], dtype=int32)),\n ({'B2': array([0.07915], dtype=float32),\n   'B3': array([0.1196], dtype=float32),\n   'B4': array([0.13505], dtype=float32),\n   'B5': array([0.1639], dtype=float32),\n   'B6': array([0.22555], dtype=float32),\n   'B7': array([0.2038], dtype=float32)},\n  array([0], dtype=int32)),\n ({'B2': array([0.085], dtype=float32),\n   'B3': array([0.1175], dtype=float32),\n   'B4': array([0.139], dtype=float32),\n   'B5': array([0.1783], dtype=float32),\n   'B6': array([0.2607], dtype=float32),\n   'B7': array([0.2426], dtype=float32)},\n  array([0], dtype=int32)),\n ({'B2': array([0.104], dtype=float32),\n   'B3': array([0.12715], dtype=float32),\n   'B4': array([0.13835], dtype=float32),\n   'B5': array([0.1614], dtype=float32),\n   'B6': array([0.1633], dtype=float32),\n   'B7': array([0.14075], dtype=float32)},\n  array([0], dtype=int32)),\n ({'B2': array([0.0561], dtype=float32),\n   'B3': array([0.0712], dtype=float32),\n   'B4': array([0.05], dtype=float32),\n   'B5': array([0.0147], dtype=float32),\n   'B6': array([0.0057], dtype=float32),\n   'B7': array([0.004], dtype=float32)},\n  array([2], dtype=int32)),\n ({'B2': array([0.05255], dtype=float32),\n   'B3': array([0.062], dtype=float32),\n   'B4': array([0.0435], dtype=float32),\n   'B5': array([0.0117], dtype=float32),\n   'B6': array([0.00785], dtype=float32),\n   'B7': array([0.00555], dtype=float32)},\n  array([2], dtype=int32)),\n ({'B2': array([0.04625], dtype=float32),\n   'B3': array([0.0554], dtype=float32),\n   'B4': array([0.0324], dtype=float32),\n   'B5': array([0.0103], dtype=float32),\n   'B6': array([0.00535], dtype=float32),\n   'B7': array([0.004], dtype=float32)},\n  array([2], dtype=int32)),\n ({'B2': array([0.049], dtype=float32),\n   'B3': array([0.0623], dtype=float32),\n   'B4': array([0.04015], dtype=float32),\n   'B5': array([0.0099], dtype=float32),\n   'B6': array([0.0049], dtype=float32),\n   'B7': array([0.00385], dtype=float32)},\n  array([2], dtype=int32)),\n ({'B2': array([0.01255], dtype=float32),\n   'B3': array([0.0255], dtype=float32),\n   'B4': array([0.01805], dtype=float32),\n   'B5': array([0.19185], dtype=float32),\n   'B6': array([0.0664], dtype=float32),\n   'B7': array([0.0275], dtype=float32)},\n  array([1], dtype=int32)),\n ({'B2': array([0.01355], dtype=float32),\n   'B3': array([0.0287], dtype=float32),\n   'B4': array([0.0189], dtype=float32),\n   'B5': array([0.25105], dtype=float32),\n   'B6': array([0.0806], dtype=float32),\n   'B7': array([0.03105], dtype=float32)},\n  array([1], dtype=int32)),\n ({'B2': array([0.0252], dtype=float32),\n   'B3': array([0.0399], dtype=float32),\n   'B4': array([0.0352], dtype=float32),\n   'B5': array([0.1882], dtype=float32),\n   'B6': array([0.1326], dtype=float32),\n   'B7': array([0.0718], dtype=float32)},\n  array([1], dtype=int32)),\n ({'B2': array([0.0419], dtype=float32),\n   'B3': array([0.074], dtype=float32),\n   'B4': array([0.0858], dtype=float32),\n   'B5': array([0.2874], dtype=float32),\n   'B6': array([0.2223], dtype=float32),\n   'B7': array([0.1462], dtype=float32)},\n  array([1], dtype=int32)),\n ({'B2': array([0.01645], dtype=float32),\n   'B3': array([0.0353], dtype=float32),\n   'B4': array([0.0249], dtype=float32),\n   'B5': array([0.2556], dtype=float32),\n   'B6': array([0.1118], dtype=float32),\n   'B7': array([0.0469], dtype=float32)},\n  array([1], dtype=int32)),\n ({'B2': array([0.0421], dtype=float32),\n   'B3': array([0.0664], dtype=float32),\n   'B4': array([0.0921], dtype=float32),\n   'B5': array([0.2356], dtype=float32),\n   'B6': array([0.2334], dtype=float32),\n   'B7': array([0.1443], dtype=float32)},\n  array([1], dtype=int32)),\n ({'B2': array([0.0386], dtype=float32),\n   'B3': array([0.0657], dtype=float32),\n   'B4': array([0.0802], dtype=float32),\n   'B5': array([0.28645], dtype=float32),\n   'B6': array([0.2192], dtype=float32),\n   'B7': array([0.1232], dtype=float32)},\n  array([1], dtype=int32)),\n ({'B2': array([0.0526], dtype=float32),\n   'B3': array([0.0833], dtype=float32),\n   'B4': array([0.1326], dtype=float32),\n   'B5': array([0.2944], dtype=float32),\n   'B6': array([0.3279], dtype=float32),\n   'B7': array([0.2034], dtype=float32)},\n  array([1], dtype=int32)),\n ({'B2': array([0.05045], dtype=float32),\n   'B3': array([0.067], dtype=float32),\n   'B4': array([0.05055], dtype=float32),\n   'B5': array([0.0175], dtype=float32),\n   'B6': array([0.0091], dtype=float32),\n   'B7': array([0.00725], dtype=float32)},\n  array([2], dtype=int32)),\n ({'B2': array([0.0509], dtype=float32),\n   'B3': array([0.0627], dtype=float32),\n   'B4': array([0.0477], dtype=float32),\n   'B5': array([0.0132], dtype=float32),\n   'B6': array([0.0055], dtype=float32),\n   'B7': array([0.0042], dtype=float32)},\n  array([2], dtype=int32))]"
     },
     "metadata": {},
     "output_type": "execute_result",
     "execution_count": 52
    }
   ],
   "source": [
    "list(parsed_dataset.as_numpy_iterator())"
   ],
   "metadata": {
    "collapsed": false,
    "pycharm": {
     "name": "#%%\n",
     "is_executing": false
    }
   }
  },
  {
   "cell_type": "code",
   "execution_count": 41,
   "outputs": [
    {
     "name": "stdout",
     "text": [
      "\r      1/Unknown - 0s 108us/step - loss: 0.8317 - accuracy: 1.0000",
      "\b\b\b\b\b\b\b\b\b\b\b\b\b\b\b\b\b\b\b\b\b\b\b\b\b\b\b\b\b\b\b\b\b\b\b\b\b\b\b\b\b\b\b\b\b\b\b\b\b\b\b\b\b\b\b\b\b\b\b\b\b\b\b\b\b\r29/29 [==============================] - 0s 1ms/step - loss: 0.8426 - accuracy: 0.9655\n"
     ],
     "output_type": "stream"
    },
    {
     "data": {
      "text/plain": "[0.8426253795623779, 0.9655172228813171]"
     },
     "metadata": {},
     "output_type": "execute_result",
     "execution_count": 41
    }
   ],
   "source": [
    "test_dataset = (\n",
    "  tf.data.TFRecordDataset(TEST_FILE_PATH, compression_type='GZIP')\n",
    "    .map(parse_tfrecord, num_parallel_calls=5)\n",
    "    .map(add_NDVI)\n",
    "    .map(to_tuple)\n",
    "    .batch(1))\n",
    "\n",
    "model.evaluate(test_dataset)"
   ],
   "metadata": {
    "collapsed": false,
    "pycharm": {
     "name": "#%%\n",
     "is_executing": false
    }
   }
  }
 ],
 "metadata": {
  "kernelspec": {
   "display_name": "Python 3",
   "language": "python",
   "name": "python3"
  },
  "language_info": {
   "codemirror_mode": {
    "name": "ipython",
    "version": 2
   },
   "file_extension": ".py",
   "mimetype": "text/x-python",
   "name": "python",
   "nbconvert_exporter": "python",
   "pygments_lexer": "ipython2",
   "version": "2.7.6"
  },
  "pycharm": {
   "stem_cell": {
    "cell_type": "raw",
    "source": [],
    "metadata": {
     "collapsed": false
    }
   }
  }
 },
 "nbformat": 4,
 "nbformat_minor": 0
}